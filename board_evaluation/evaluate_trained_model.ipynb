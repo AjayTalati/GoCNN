{
 "cells": [
  {
   "cell_type": "code",
   "execution_count": 28,
   "metadata": {
    "collapsed": false
   },
   "outputs": [
    {
     "data": {
      "text/plain": [
       "<module 'model_eval' from 'model_eval.py'>"
      ]
     },
     "execution_count": 28,
     "metadata": {},
     "output_type": "execute_result"
    }
   ],
   "source": [
    "import tensorflow as tf\n",
    "import os\n",
    "import sys\n",
    "import go_datafile_reader\n",
    "import model\n",
    "import numpy as np\n",
    "import model_eval\n",
    "reload(model)\n",
    "reload(go_datafile_reader)\n",
    "reload(model_eval)"
   ]
  },
  {
   "cell_type": "code",
   "execution_count": 2,
   "metadata": {
    "collapsed": true
   },
   "outputs": [],
   "source": [
    "train_dir = \"/home/justin/Programming/GoAI/MovePredictionCNN/data/input/train\"\n",
    "test_dir = \"/home/justin/Programming/GoAI/MovePredictionCNN/data/input/test\"\n",
    "ckpt_path = \"/home/justin/Programming/GoAI/MovePredictionCNN/data/working/board_eval_cnn_5layer.ckpt\""
   ]
  },
  {
   "cell_type": "code",
   "execution_count": 3,
   "metadata": {
    "collapsed": false
   },
   "outputs": [
    {
     "name": "stdout",
     "output_type": "stream",
     "text": [
      "num train: 14724, num test: 149\n"
     ]
    }
   ],
   "source": [
    "train_files = []\n",
    "for subdir, dirs, files in os.walk(train_dir):\n",
    "    for file in files:\n",
    "        filepath = subdir + os.sep + file\n",
    "        if filepath.endswith(\".dat\"):\n",
    "            train_files.append(filepath)\n",
    "\n",
    "test_files = []\n",
    "for subdir, dirs, files in os.walk(test_dir):\n",
    "    for file in files:\n",
    "        filepath = subdir + os.sep + file\n",
    "        if filepath.endswith(\".dat\"):\n",
    "            test_files.append(filepath)\n",
    "\n",
    "print \"num train: %d, num test: %d\" %(len(train_files), len(test_files))"
   ]
  },
  {
   "cell_type": "code",
   "execution_count": 4,
   "metadata": {
    "collapsed": false
   },
   "outputs": [],
   "source": [
    "#note you may have to change the os limit for number of open files to use the RandomAccessFileReader\n",
    "#you can do this with the command \"sudo ulimit -n 20000\"\n",
    "#if sudo can't find the ulimit command try the following below\n",
    "#sudo sh -c \"ulimit -n 20000 && exec su $LOGNAME\"\n",
    "\n",
    "#reader = go_datafile_reader.RandomAccessFileReader(train_files)\n",
    "test_reader = go_datafile_reader.GoDatafileReader(test_files)\n",
    "\n",
    "test_reader.num_epochs = 0\n",
    "test_features = []\n",
    "test_targets = []\n",
    "test_move_numbers = []\n",
    "while(test_reader.num_epochs == 0):\n",
    "    final_state, _, feature_cube = test_reader.read_sample()\n",
    "    test_move_numbers.append(test_reader.move_index)\n",
    "    test_features.append(feature_cube)\n",
    "    test_targets.append(final_state)"
   ]
  },
  {
   "cell_type": "code",
   "execution_count": 5,
   "metadata": {
    "collapsed": false
   },
   "outputs": [],
   "source": [
    "x, ownership = model.place_holders()\n",
    "y_conv = model.model(x)\n",
    "loss = model.loss_function(ownership, y_conv)\n",
    "train_op = model.train_step(loss)\n",
    "\n",
    "prediction = tf.round(y_conv)\n",
    "correct_prediction = tf.equal(ownership, prediction)\n",
    "correct_count = tf.reduce_sum(tf.cast(correct_prediction, \"float\"))\n",
    "accuracy = tf.reduce_mean(tf.cast(correct_prediction, \"float\"))\n",
    "\n",
    "sess = tf.InteractiveSession()\n",
    "sess.run(tf.initialize_all_variables())\n",
    "saver = tf.train.Saver(tf.all_variables())\n",
    "saver.restore(sess, ckpt_path)"
   ]
  },
  {
   "cell_type": "code",
   "execution_count": 6,
   "metadata": {
    "collapsed": true
   },
   "outputs": [],
   "source": [
    "import matplotlib.pyplot as plt\n",
    "import numpy as np"
   ]
  },
  {
   "cell_type": "code",
   "execution_count": 19,
   "metadata": {
    "collapsed": false
   },
   "outputs": [
    {
     "name": "stdout",
     "output_type": "stream",
     "text": [
      "0\n",
      "500\n",
      "1000\n",
      "1500\n",
      "2000\n",
      "2500\n",
      "3000\n",
      "3500\n",
      "4000\n",
      "4500\n",
      "5000\n",
      "5500\n",
      "6000\n",
      "6500\n",
      "7000\n",
      "7500\n",
      "8000\n",
      "8500\n",
      "9000\n",
      "9500\n",
      "10000\n",
      "10500\n",
      "11000\n",
      "11500\n",
      "12000\n",
      "12500\n",
      "13000\n",
      "13500\n",
      "14000\n",
      "14500\n",
      "15000\n",
      "15500\n",
      "16000\n",
      "16500\n",
      "17000\n",
      "17500\n",
      "18000\n",
      "18500\n",
      "19000\n",
      "19500\n",
      "20000\n",
      "20500\n",
      "21000\n",
      "21500\n",
      "22000\n",
      "22500\n",
      "23000\n",
      "23500\n",
      "24000\n",
      "24500\n",
      "25000\n",
      "25500\n",
      "26000\n",
      "26500\n",
      "27000\n",
      "27500\n",
      "28000\n",
      "28500\n",
      "29000\n",
      "29500\n",
      "30000\n",
      "30500\n",
      "31000\n",
      "31500\n",
      "32000\n",
      "32500\n",
      "33000\n",
      "33500\n",
      "34000\n",
      "34500\n",
      "35000\n",
      "35500\n",
      "36000\n",
      "36500\n",
      "37000\n",
      "37500\n",
      "38000\n",
      "38500\n",
      "39000\n",
      "39500\n"
     ]
    }
   ],
   "source": [
    "accuracies = []\n",
    "y_trues = []\n",
    "y_vals = []\n",
    "y_preds = []\n",
    "feature_cubes = []\n",
    "for i in xrange(len(test_features)):\n",
    "    if i%500 == 0:\n",
    "        print i\n",
    "    x_, y_ = test_features[i], test_targets[i]\n",
    "    y_val, y_pred, acc = sess.run([y_conv, prediction, accuracy], feed_dict={x:[x_], ownership:[y_]})\n",
    "    accuracies.append(acc)\n",
    "    y_trues.append(np.reshape(y_, [19,19]))\n",
    "    y_preds.append(np.reshape(y_pred[0], [19,19]))\n",
    "    y_vals.append(np.reshape(y_val[0], [19,19]))\n",
    "    feature_cubes.append(x_)"
   ]
  },
  {
   "cell_type": "code",
   "execution_count": 41,
   "metadata": {
    "collapsed": false
   },
   "outputs": [
    {
     "name": "stdout",
     "output_type": "stream",
     "text": [
      "161 0.822715\n",
      "**************10*0*   1100000000000110001   9650000000013791106   1000000000000110000\n",
      "*100***000***010011   1100000000000010011   9900000000002090065   1100000000000010011\n",
      "*110**011000*0110**   1110000110001011010   9990000680008199064   1110000110000011001\n",
      "*100*0***10110*1000   1100000011011001000   9900102579099029002   1100000111011001000\n",
      "**1**100111**01*111   1111010011110011111   9995491199994099999   1110110011110011111\n",
      "1*1*01110*1*111*1**   1111011111111110101   9996099999999993948   1110011111111111111\n",
      "*10*0**010*****0*0*   0100000011111100100   4901054099999640813   1100010011111011111\n",
      "*00****011111***0**   0000000011111100000   3002234099999551001   0000001011111011011\n",
      "*******0011000*****   0000001001100000000   0123445009900032100   0000011001100011000\n",
      "**0******00*****00*   0001010000000000000   0005465200013543002   0000001100000000000\n",
      "*011************01*   0011010000000101010   0099463223443556093   0011011001000010011\n",
      "**01**00*******11*1   0001000010000111111   1009441155555569999   0001110011001011111\n",
      "*001***11******1010   0001110111110101111   2009764996665549999   0001000111011001111\n",
      "*01********1***1*1*   1011111111110001111   5099876998794449999   0011001111110011111\n",
      "*1*111******0*0*1**   1111111111100000111   7999999999951303999   0111111111110001111\n",
      "*1*01011******01***   1110101111111001111   9981909999976409999   1110101111100101111\n",
      "*10*00*011111*01***   1100001011111101111   9912007099999609888   1100001011111101111\n",
      "*110***00*000*001**   1110000001000000101   9990000008000100947   1110000001000000111\n",
      "****************0**   1111000000000000000   9995000011100001014   1100000000000001111\n"
     ]
    }
   ],
   "source": [
    "idx = 160\n",
    "y_pred = y_preds[idx]\n",
    "y_true = y_trues[idx]\n",
    "y_val = y_vals[idx]\n",
    "feature_cube = feature_cubes[idx]\n",
    "\n",
    "print test_move_numbers[idx], accuracies[idx]\n",
    "model_eval.print_info(feature_cube, y_pred, y_val,y_true)\n",
    "\n",
    "    "
   ]
  },
  {
   "cell_type": "code",
   "execution_count": 9,
   "metadata": {
    "collapsed": true
   },
   "outputs": [],
   "source": [
    "import pandas as pd"
   ]
  },
  {
   "cell_type": "code",
   "execution_count": 10,
   "metadata": {
    "collapsed": true
   },
   "outputs": [],
   "source": [
    "df = pd.DataFrame()\n",
    "df[\"Move Num\"] = test_move_numbers\n",
    "df[\"Accuracy\"] = accuracies\n",
    "grouped = df.groupby(\"Move Num\").aggregate(np.mean)\n"
   ]
  },
  {
   "cell_type": "code",
   "execution_count": 16,
   "metadata": {
    "collapsed": false
   },
   "outputs": [],
   "source": [
    "grouped.plot()\n",
    "plt.title(\"Accuracy by move number, 5layer 64filters\")\n",
    "plt.xlabel(\"Move Number\")\n",
    "plt.ylabel(\"Accuracy\")\n",
    "plt.show()"
   ]
  },
  {
   "cell_type": "code",
   "execution_count": 17,
   "metadata": {
    "collapsed": false
   },
   "outputs": [],
   "source": [
    "plot = plt.hist(df[df[\"Move Num\"] == 250][\"Accuracy\"].values, bins = 40)\n",
    "plt.title(\"Move 250 accuracy histogram, 5layer 64filters\")\n",
    "plt.xlabel(\"Accuracy\")\n",
    "plt.ylabel(\"Frequency\")\n",
    "plt.show()"
   ]
  },
  {
   "cell_type": "code",
   "execution_count": 15,
   "metadata": {
    "collapsed": false
   },
   "outputs": [
    {
     "name": "stdout",
     "output_type": "stream",
     "text": [
      "60\n"
     ]
    }
   ],
   "source": [
    "bad_guys = df[(df[\"Move Num\"] > 200) & (df[\"Accuracy\"] < .70)]\n",
    "print len(bad_guys)"
   ]
  },
  {
   "cell_type": "code",
   "execution_count": 32,
   "metadata": {
    "collapsed": false
   },
   "outputs": [
    {
     "data": {
      "text/html": [
       "<div>\n",
       "<table border=\"1\" class=\"dataframe\">\n",
       "  <thead>\n",
       "    <tr style=\"text-align: right;\">\n",
       "      <th></th>\n",
       "      <th>Move Num</th>\n",
       "      <th>Accuracy</th>\n",
       "    </tr>\n",
       "  </thead>\n",
       "  <tbody>\n",
       "    <tr>\n",
       "      <th>296</th>\n",
       "      <td>296</td>\n",
       "      <td>0.531856</td>\n",
       "    </tr>\n",
       "    <tr>\n",
       "      <th>551</th>\n",
       "      <td>255</td>\n",
       "      <td>0.578947</td>\n",
       "    </tr>\n",
       "    <tr>\n",
       "      <th>801</th>\n",
       "      <td>250</td>\n",
       "      <td>0.565097</td>\n",
       "    </tr>\n",
       "    <tr>\n",
       "      <th>1109</th>\n",
       "      <td>308</td>\n",
       "      <td>0.584488</td>\n",
       "    </tr>\n",
       "    <tr>\n",
       "      <th>1396</th>\n",
       "      <td>287</td>\n",
       "      <td>0.479224</td>\n",
       "    </tr>\n",
       "    <tr>\n",
       "      <th>1666</th>\n",
       "      <td>270</td>\n",
       "      <td>0.562327</td>\n",
       "    </tr>\n",
       "    <tr>\n",
       "      <th>1934</th>\n",
       "      <td>268</td>\n",
       "      <td>0.506925</td>\n",
       "    </tr>\n",
       "    <tr>\n",
       "      <th>2216</th>\n",
       "      <td>282</td>\n",
       "      <td>0.570637</td>\n",
       "    </tr>\n",
       "    <tr>\n",
       "      <th>2716</th>\n",
       "      <td>256</td>\n",
       "      <td>0.545706</td>\n",
       "    </tr>\n",
       "    <tr>\n",
       "      <th>3012</th>\n",
       "      <td>296</td>\n",
       "      <td>0.487535</td>\n",
       "    </tr>\n",
       "  </tbody>\n",
       "</table>\n",
       "</div>"
      ],
      "text/plain": [
       "      Move Num  Accuracy\n",
       "296        296  0.531856\n",
       "551        255  0.578947\n",
       "801        250  0.565097\n",
       "1109       308  0.584488\n",
       "1396       287  0.479224\n",
       "1666       270  0.562327\n",
       "1934       268  0.506925\n",
       "2216       282  0.570637\n",
       "2716       256  0.545706\n",
       "3012       296  0.487535"
      ]
     },
     "execution_count": 32,
     "metadata": {},
     "output_type": "execute_result"
    }
   ],
   "source": [
    "bad_guys[:10]"
   ]
  },
  {
   "cell_type": "code",
   "execution_count": null,
   "metadata": {
    "collapsed": true
   },
   "outputs": [],
   "source": []
  }
 ],
 "metadata": {
  "kernelspec": {
   "display_name": "Python 2",
   "language": "python",
   "name": "python2"
  },
  "language_info": {
   "codemirror_mode": {
    "name": "ipython",
    "version": 2
   },
   "file_extension": ".py",
   "mimetype": "text/x-python",
   "name": "python",
   "nbconvert_exporter": "python",
   "pygments_lexer": "ipython2",
   "version": "2.7.10"
  }
 },
 "nbformat": 4,
 "nbformat_minor": 0
}
