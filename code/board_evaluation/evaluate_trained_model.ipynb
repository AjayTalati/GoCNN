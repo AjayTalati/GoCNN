{
 "cells": [
  {
   "cell_type": "code",
   "execution_count": 1,
   "metadata": {
    "collapsed": false
   },
   "outputs": [
    {
     "data": {
      "text/plain": [
       "<module 'model_eval' from 'model_eval.pyc'>"
      ]
     },
     "execution_count": 1,
     "metadata": {},
     "output_type": "execute_result"
    }
   ],
   "source": [
    "import tensorflow as tf\n",
    "import os\n",
    "import sys\n",
    "import go_datafile_reader\n",
    "import model\n",
    "import numpy as np\n",
    "import model_eval\n",
    "reload(model)\n",
    "reload(go_datafile_reader)\n",
    "reload(model_eval)"
   ]
  },
  {
   "cell_type": "code",
   "execution_count": 2,
   "metadata": {
    "collapsed": true
   },
   "outputs": [],
   "source": [
    "train_dir = \"/home/justin/Programming/GoAI/MovePredictionCNN/data/input/train\"\n",
    "test_dir = \"/home/justin/Programming/GoAI/MovePredictionCNN/data/input/test\"\n",
    "ckpt_path = \"/home/justin/Programming/GoAI/MovePredictionCNN/data/working/board_eval_cnn_5layer.ckpt\""
   ]
  },
  {
   "cell_type": "code",
   "execution_count": 3,
   "metadata": {
    "collapsed": false
   },
   "outputs": [
    {
     "name": "stdout",
     "output_type": "stream",
     "text": [
      "num train: 14724, num test: 149\n"
     ]
    }
   ],
   "source": [
    "train_files = []\n",
    "for subdir, dirs, files in os.walk(train_dir):\n",
    "    for file in files:\n",
    "        filepath = subdir + os.sep + file\n",
    "        if filepath.endswith(\".dat\"):\n",
    "            train_files.append(filepath)\n",
    "\n",
    "test_files = []\n",
    "for subdir, dirs, files in os.walk(test_dir):\n",
    "    for file in files:\n",
    "        filepath = subdir + os.sep + file\n",
    "        if filepath.endswith(\".dat\"):\n",
    "            test_files.append(filepath)\n",
    "\n",
    "print \"num train: %d, num test: %d\" %(len(train_files), len(test_files))"
   ]
  },
  {
   "cell_type": "code",
   "execution_count": 4,
   "metadata": {
    "collapsed": false
   },
   "outputs": [],
   "source": [
    "#note you may have to change the os limit for number of open files to use the RandomAccessFileReader\n",
    "#you can do this with the command \"sudo ulimit -n 20000\"\n",
    "#if sudo can't find the ulimit command try the following below\n",
    "#sudo sh -c \"ulimit -n 20000 && exec su $LOGNAME\"\n",
    "\n",
    "#reader = go_datafile_reader.RandomAccessFileReader(train_files)\n",
    "test_reader = go_datafile_reader.GoDatafileReader(test_files)\n",
    "\n",
    "test_reader.num_epochs = 0\n",
    "test_features = []\n",
    "test_targets = []\n",
    "test_move_numbers = []\n",
    "while(test_reader.num_epochs == 0):\n",
    "    test_move_numbers.append(test_reader.move_index)\n",
    "    final_state, _, feature_cube = test_reader.read_sample()\n",
    "    test_features.append(feature_cube)\n",
    "    test_targets.append(final_state)"
   ]
  },
  {
   "cell_type": "code",
   "execution_count": 5,
   "metadata": {
    "collapsed": false
   },
   "outputs": [],
   "source": [
    "x, ownership = model.place_holders()\n",
    "y_conv = model.model(x)\n",
    "loss = model.loss_function(ownership, y_conv)\n",
    "train_op = model.train_step(loss)\n",
    "\n",
    "prediction = tf.round(y_conv)\n",
    "correct_prediction = tf.equal(ownership, prediction)\n",
    "correct_count = tf.reduce_sum(tf.cast(correct_prediction, \"float\"))\n",
    "accuracy = tf.reduce_mean(tf.cast(correct_prediction, \"float\"))\n",
    "\n",
    "sess = tf.InteractiveSession()\n",
    "sess.run(tf.initialize_all_variables())\n",
    "saver = tf.train.Saver(tf.all_variables())\n",
    "saver.restore(sess, ckpt_path)"
   ]
  },
  {
   "cell_type": "code",
   "execution_count": 6,
   "metadata": {
    "collapsed": true
   },
   "outputs": [],
   "source": [
    "import matplotlib.pyplot as plt\n",
    "import numpy as np"
   ]
  },
  {
   "cell_type": "code",
   "execution_count": 9,
   "metadata": {
    "collapsed": false
   },
   "outputs": [
    {
     "name": "stdout",
     "output_type": "stream",
     "text": [
      "0\n",
      "500\n",
      "1000\n",
      "1500\n",
      "2000\n",
      "2500\n",
      "3000\n",
      "3500\n",
      "4000\n",
      "4500\n",
      "5000\n",
      "5500\n",
      "6000\n",
      "6500\n",
      "7000\n",
      "7500\n",
      "8000\n",
      "8500\n",
      "9000\n",
      "9500\n",
      "10000\n",
      "10500\n",
      "11000\n",
      "11500\n",
      "12000\n",
      "12500\n",
      "13000\n",
      "13500\n",
      "14000\n",
      "14500\n",
      "15000\n",
      "15500\n",
      "16000\n",
      "16500\n",
      "17000\n",
      "17500\n",
      "18000\n",
      "18500\n",
      "19000\n",
      "19500\n",
      "20000\n",
      "20500\n",
      "21000\n",
      "21500\n",
      "22000\n",
      "22500\n",
      "23000\n",
      "23500\n",
      "24000\n",
      "24500\n",
      "25000\n",
      "25500\n",
      "26000\n",
      "26500\n",
      "27000\n",
      "27500\n",
      "28000\n",
      "28500\n",
      "29000\n",
      "29500\n",
      "30000\n",
      "30500\n",
      "31000\n",
      "31500\n",
      "32000\n",
      "32500\n",
      "33000\n",
      "33500\n",
      "34000\n",
      "34500\n",
      "35000\n",
      "35500\n",
      "36000\n",
      "36500\n",
      "37000\n",
      "37500\n",
      "38000\n",
      "38500\n",
      "39000\n",
      "39500\n"
     ]
    }
   ],
   "source": [
    "accuracies = []\n",
    "y_trues = []\n",
    "y_preds = []\n",
    "feature_cubes = []\n",
    "for i in xrange(len(test_features)):\n",
    "    if i%500 == 0:\n",
    "        print i\n",
    "    x_, y_ = test_features[i], test_targets[i]\n",
    "    y_val, y_pred, acc = sess.run([y_conv, prediction, accuracy], feed_dict={x:[x_], ownership:[y_]})\n",
    "    accuracies.append(acc)\n",
    "    y_trues.append(np.reshape(y_, [19,19]))\n",
    "    y_preds.append(np.reshape(y_pred[0], [19,19]))\n",
    "    feature_cubes.append(x_)"
   ]
  },
  {
   "cell_type": "code",
   "execution_count": 10,
   "metadata": {
    "collapsed": false
   },
   "outputs": [
    {
     "name": "stdout",
     "output_type": "stream",
     "text": [
      "212 0.961219\n",
      "*0*1*0****0*1*1****   1111000000011100000   1111100000011110000\n",
      "*1*110****010**010*   1111100000010000000   1111100000010100000\n",
      "*11100***0*10000100   1111000000010000000   1111000000010000000\n",
      "11000******1*11100*   1100000000111111000   1100000000110111000\n",
      "10*******001****110   1000000000011111110   1000000000011111110\n",
      "*0******0*101*1*10*   0000000000001111111   1000000000001111111\n",
      "***0******1011**100   0000000000001111111   0000000000001111111\n",
      "*01*1****1001*10*11   0000000000001111111   0000000000001111111\n",
      "0***000*100101*1***   0000000000000111111   0000000000000111111\n",
      "10000101101*001****   1000010000000011111   1000010000000011111\n",
      "11101110001*0111***   1110111000000111111   1110111000000111111\n",
      "*0111**001*0**0011*   1111111000000000111   1111111000000100111\n",
      "*****1001*1*00*001*   1111110000000000011   1111110000000000011\n",
      "******10010**10*001   1111111000000000001   1111111000000000001\n",
      "******1*0100001001*   1111111000000010011   1111111000000010011\n",
      "**1**01*1010*01011*   1111111110100010111   1111111110100010111\n",
      "****101*10110*1101*   1111111111110111111   1111111010110111111\n",
      "***1*100001*11*****   1111110111111111111   1111110000111111111\n",
      "****1****011*******   1111111011111111111   1111110000111111111\n"
     ]
    }
   ],
   "source": [
    "idx = 3500\n",
    "y_pred = y_preds[idx]\n",
    "y_true = y_trues[idx]\n",
    "feature_cube = feature_cubes[idx]\n",
    "\n",
    "print test_move_numbers[idx], accuracies[idx]\n",
    "model_eval.print_info(feature_cube, y_pred, y_true)\n",
    "\n",
    "    "
   ]
  },
  {
   "cell_type": "code",
   "execution_count": 11,
   "metadata": {
    "collapsed": true
   },
   "outputs": [],
   "source": [
    "import pandas as pd"
   ]
  },
  {
   "cell_type": "code",
   "execution_count": 12,
   "metadata": {
    "collapsed": true
   },
   "outputs": [],
   "source": [
    "df = pd.DataFrame()\n",
    "df[\"Move Num\"] = test_move_numbers\n",
    "df[\"Accuracy\"] = accuracies\n",
    "grouped = df.groupby(\"Move Num\").aggregate(np.mean)\n"
   ]
  },
  {
   "cell_type": "code",
   "execution_count": 13,
   "metadata": {
    "collapsed": false
   },
   "outputs": [],
   "source": [
    "grouped.plot()\n",
    "plt.title(\"Accuracy by move number, 5layer 64filters\")\n",
    "plt.xlabel(\"Move Number\")\n",
    "plt.ylabel(\"Accuracy\")\n",
    "plt.show()"
   ]
  },
  {
   "cell_type": "code",
   "execution_count": 14,
   "metadata": {
    "collapsed": false
   },
   "outputs": [],
   "source": [
    "plot = plt.hist(df[df[\"Move Num\"] == 250][\"Accuracy\"].values, bins = 40)\n",
    "plt.show()"
   ]
  },
  {
   "cell_type": "code",
   "execution_count": null,
   "metadata": {
    "collapsed": true
   },
   "outputs": [],
   "source": []
  }
 ],
 "metadata": {
  "kernelspec": {
   "display_name": "Python 2",
   "language": "python",
   "name": "python2"
  },
  "language_info": {
   "codemirror_mode": {
    "name": "ipython",
    "version": 2
   },
   "file_extension": ".py",
   "mimetype": "text/x-python",
   "name": "python",
   "nbconvert_exporter": "python",
   "pygments_lexer": "ipython2",
   "version": "2.7.10"
  }
 },
 "nbformat": 4,
 "nbformat_minor": 0
}
