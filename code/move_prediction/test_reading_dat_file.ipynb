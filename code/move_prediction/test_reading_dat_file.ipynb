{
 "cells": [
  {
   "cell_type": "code",
   "execution_count": 1,
   "metadata": {
    "collapsed": false
   },
   "outputs": [
    {
     "data": {
      "text/plain": [
       "<module 'bit_writer' from '/home/justin/Programming/GoAI/MovePredictionCNN/code/munge/bit_writer.pyc'>"
      ]
     },
     "execution_count": 1,
     "metadata": {},
     "output_type": "execute_result"
    }
   ],
   "source": [
    "import sys\n",
    "sys.path.append(\"/home/justin/Programming/GoAI/MovePredictionCNN/code/munge/\")\n",
    "import bit_writer\n",
    "reload(bit_writer)"
   ]
  },
  {
   "cell_type": "code",
   "execution_count": 3,
   "metadata": {
    "collapsed": false
   },
   "outputs": [
    {
     "name": "stdout",
     "output_type": "stream",
     "text": [
      "GO\n",
      "15 16\n",
      "0011111111111000111\n",
      "0000011111111101111\n",
      "0000001111001000111\n",
      "0000000100000001111\n",
      "0000011100000011101\n",
      "0000110110011001000\n",
      "0001110100110010000\n",
      "0000000011110111000\n",
      "0000000001111111000\n",
      "0000000011111110000\n",
      "0000000111111100000\n",
      "0100011111111000000\n",
      "1111111111110000000\n",
      "1111111111110000000\n",
      "1111111111110000000\n",
      "1111111111100000000\n",
      "1111111111100000000\n",
      "1111111111111000000\n",
      "1111111111111100000\n"
     ]
    }
   ],
   "source": [
    "file_dir = \"/home/justin/Programming/GoAI/MovePredictionCNN/data/input/test/\"\n",
    "file_name = \"ZouJunjie-YueLiang30275.dat\"\n",
    "with open(file_dir + file_name, 'rb') as data_file:\n",
    "    byte = data_file.read(2)\n",
    "    print byte\n",
    "    row = ord(data_file.read(1))\n",
    "    col = ord(data_file.read(1))\n",
    "    print row, col\n",
    "    final_states = bit_writer.read_sequence(data_file, 361)\n",
    "    final_states = final_states.reshape((19,19))\n",
    "    for i in xrange(19):\n",
    "        row_str = \"\"\n",
    "        for j in xrange(19):\n",
    "            row_str+=str(int(final_states[i][j]))\n",
    "        print row_str\n"
   ]
  },
  {
   "cell_type": "code",
   "execution_count": null,
   "metadata": {
    "collapsed": true
   },
   "outputs": [],
   "source": []
  }
 ],
 "metadata": {
  "kernelspec": {
   "display_name": "Python 2",
   "language": "python",
   "name": "python2"
  },
  "language_info": {
   "codemirror_mode": {
    "name": "ipython",
    "version": 2
   },
   "file_extension": ".py",
   "mimetype": "text/x-python",
   "name": "python",
   "nbconvert_exporter": "python",
   "pygments_lexer": "ipython2",
   "version": "2.7.10"
  }
 },
 "nbformat": 4,
 "nbformat_minor": 0
}
